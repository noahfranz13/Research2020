{
 "cells": [
  {
   "cell_type": "markdown",
   "metadata": {},
   "source": [
    "# Simulating Background ELGs\n",
    "\n",
    "* keep exploring the code, options, etc.\n",
    "* build a single BGS target at, say, a redshift of 0.2. play around with the seed to get a galaxy without strong emission lines (i.e., an early-type galaxy); there’s no trivial way to do this right now, but we can work on that separately\n",
    "* build another emission-line galaxy at a different, higher redshift (say, z=0.8) using the ELG().make_template method.\n",
    "* add the two spectra together (in the observed frame) with some flux-ratio, which should be an input variable.\n",
    "* simulate a noisy DESI Spectrum\n",
    "* run redrock on the resulting spectrum, which should hopefully yield the redshift of the foreground BGS target\n",
    "* subtract the best-fitting redrock template from the data, which should yield a (noisy) emission-line spectrum of the background galaxy.\n",
    "* run redrock on that //residual// spectrum and you will hopefully find(!) the background emission-line galaxy!"
   ]
  },
  {
   "cell_type": "markdown",
   "metadata": {},
   "source": [
    "## Imports"
   ]
  },
  {
   "cell_type": "code",
   "execution_count": 1,
   "metadata": {},
   "outputs": [],
   "source": [
    "import os, sys\n",
    "import numpy as np\n",
    "import matplotlib.pyplot as plt\n",
    "from glob import glob\n",
    "import fitsio\n",
    "\n",
    "from scipy.signal import medfilt\n",
    "\n",
    "from astropy.table import Table, vstack, join\n",
    "from astropy.io import fits\n",
    "\n",
    "import desispec.io\n",
    "from desispec.interpolation import resample_flux\n",
    "from desispec.resolution import Resolution\n",
    "from desispec.spectra import Spectra\n",
    "\n",
    "from desisim.scripts.quickspectra import sim_spectra\n",
    "from desisim.templates import BGS, ELG\n",
    "\n",
    "import redrock.templates\n",
    " \n",
    "from desi_myfunctions import *\n",
    "\n",
    "%matplotlib inline"
   ]
  },
  {
   "cell_type": "markdown",
   "metadata": {},
   "source": [
    "## Functions"
   ]
  },
  {
   "cell_type": "code",
   "execution_count": 2,
   "metadata": {},
   "outputs": [],
   "source": [
    "# Check if the outfile exists and if not run the input command\n",
    "\n",
    "def chkfile(cmd, outfile, overwrite=False):\n",
    "    \n",
    "    if os.path.exists(outfile) == True and overwrite == False:\n",
    "        \n",
    "        return None\n",
    "    \n",
    "    elif os.path.exists(outfile) == True and overwrite == True:\n",
    "        \n",
    "        !$cmd\n",
    "    \n",
    "    else:\n",
    "        \n",
    "        !$cmd\n",
    "\n",
    "# Find second magnitude based on flux ratio and first magnitude        \n",
    "        \n",
    "def maggen(mag, fratio=1):\n",
    "    \n",
    "    newmag = -2.5*np.log10(fratio)+mag\n",
    "    \n",
    "    return newmag\n",
    "\n",
    "# Simulate and combine an ELG and BGS spectra based on given seeds and red shifts\n",
    "\n",
    "def combspec(ELGmag, BGSmag, ELGseed, BGSseed, rShifts, returnmeta=False):\n",
    "    \n",
    "    makeBGS = BGS()\n",
    "    makeELG = ELG()\n",
    "    shift1 = [rShifts[0]]\n",
    "    shift2 = [rShifts[1]]\n",
    "\n",
    "    fluxBGS, waveBGS, metaBGS, objmetaBGS = makeBGS.make_templates(seed=BGSseed, nmodel=1, redshift=shift1, mag=BGSmag, nocolorcuts=True)\n",
    "    fluxELG, waveELG, metaELG, objmetaELG = makeELG.make_templates(seed=ELGseed, nmodel=1, redshift=shift2, mag=ELGmag, nocolorcuts=True)\n",
    "    \n",
    "    wave = waveBGS\n",
    "    flux = fluxBGS + fluxELG\n",
    "    \n",
    "    if returnmeta == True:\n",
    "        return wave, flux, metaBGS, metaELG\n",
    "    \n",
    "    else:\n",
    "        return wave, flux"
   ]
  },
  {
   "cell_type": "markdown",
   "metadata": {},
   "source": [
    "## Select Spectra, Simulate, and Combine"
   ]
  },
  {
   "cell_type": "code",
   "execution_count": 3,
   "metadata": {},
   "outputs": [
    {
     "name": "stdout",
     "output_type": "stream",
     "text": [
      "INFO:io.py:959:read_basis_templates: Reading /global/cfs/cdirs/desi/spectro/templates/basis_templates/v3.2/bgs_templates_v2.3.fits\n",
      "INFO:io.py:959:read_basis_templates: Reading /global/cfs/cdirs/desi/spectro/templates/basis_templates/v3.2/elg_templates_v2.2.fits\n"
     ]
    }
   ],
   "source": [
    "BGSseed = 24\n",
    "rshift = [0.2, 0.8]\n",
    "BGSmag = [20]\n",
    "ELGseed = 15\n",
    "fratio = 0.015\n",
    "ELGmag = maggen(BGSmag, fratio)\n",
    "\n",
    "combwave, combflux, BGSmeta, ELGmeta = combspec(ELGmag, BGSmag, ELGseed, BGSseed, rshift, returnmeta=True)"
   ]
  },
  {
   "cell_type": "code",
   "execution_count": 4,
   "metadata": {},
   "outputs": [],
   "source": [
    "fileloc = os.path.join(os.getenv('HOME'), 'learning', 'fitsfiles', 'background_elg_sim')\n",
    "\n",
    "writefits(fileloc, name='comb-spec-data', data=combwave, unit='Angstrom', hdrname='Wavelength', overwrite=True)\n",
    "writefits(fileloc, name='comb-spec-data', data=combflux, unit='10^-17 erg/(s*cm^2*Angstrom)', hdrname='Flux', overwrite=True)"
   ]
  },
  {
   "cell_type": "code",
   "execution_count": 5,
   "metadata": {},
   "outputs": [],
   "source": [
    "infile = os.path.join(fileloc, 'comb-spec-data.fits')\n",
    "outfile = os.path.join(fileloc, 'comb-obsspectra')\n",
    "\n",
    "cmd = 'quickspectra -i {} -o {} --moonsep 100 --airmass 2.0 --moonfrac .6 --exptime 100 --seeing 2.0'.format(infile, outfile)\n",
    "\n",
    "chkfile(cmd, outfile, overwrite=False)"
   ]
  },
  {
   "cell_type": "markdown",
   "metadata": {},
   "source": [
    "## Run Combined Simulated spectra through Redrock"
   ]
  },
  {
   "cell_type": "code",
   "execution_count": 6,
   "metadata": {},
   "outputs": [
    {
     "data": {
      "text/html": [
       "&lt;Column name=&apos;Z&apos; dtype=&apos;float64&apos; length=1&gt;\n",
       "<table>\n",
       "<tr><td>0.20040926537509116</td></tr>\n",
       "</table>"
      ],
      "text/plain": [
       "<Column name='Z' dtype='float64' length=1>\n",
       "0.20040926537509116"
      ]
     },
     "execution_count": 6,
     "metadata": {},
     "output_type": "execute_result"
    }
   ],
   "source": [
    "rroutfile = os.path.join(fileloc, 'rr-comb-data')\n",
    "\n",
    "cmd = 'rrdesi {} -z {}'.format(outfile, rroutfile)\n",
    "\n",
    "chkfile(cmd, rroutfile, overwrite=False)\n",
    "\n",
    "zbest = Table.read(rroutfile, 'ZBEST')\n",
    "\n",
    "zbest['Z']"
   ]
  },
  {
   "cell_type": "markdown",
   "metadata": {},
   "source": [
    "# Simulate a Redrock Template and find Residual ELG Flux"
   ]
  },
  {
   "cell_type": "code",
   "execution_count": 7,
   "metadata": {},
   "outputs": [
    {
     "name": "stdout",
     "output_type": "stream",
     "text": [
      "DEBUG: Read templates from /global/common/software/desi/cori/desiconda/20190804-1.3.0-spec/code/redrock-templates/master\n",
      "DEBUG: Using default redshift range -0.0050-1.6997 for rrtemplate-galaxy.fits\n"
     ]
    }
   ],
   "source": [
    "file = redrock.templates.find_templates()[0]\n",
    "rrtemp = redrock.templates.Template(file, wave=combwave)\n",
    "\n",
    "ncoeff = rrtemp.flux.shape[0]\n",
    "coeff = zbest['COEFF'][0][:ncoeff]\n",
    "\n",
    "tempflux = rrtemp.flux.T.dot(coeff)\n",
    "tempwave = rrtemp.wave * (1+zbest['Z'])"
   ]
  },
  {
   "cell_type": "code",
   "execution_count": 21,
   "metadata": {},
   "outputs": [
    {
     "name": "stdout",
     "output_type": "stream",
     "text": [
      "1\n",
      "(9, 2380)\n"
     ]
    }
   ],
   "source": [
    "spectra = desispec.io.read_spectra(outfile)\n",
    "\n",
    "ivarb = fits.getdata(outfile, 'B_IVAR')\n",
    "ivarr = fits.getdata(outfile, 'R_IVAR')\n",
    "ivarz = fits.getdata(outfile, 'Z_IVAR')\n",
    "ivar = {'b': ivarb, 'r': ivarr, 'z': ivarz}\n",
    "\n",
    "maskb = fits.getdata(outfile, 'B_MASK')\n",
    "maskr = fits.getdata(outfile, 'R_MASK')\n",
    "maskz = fits.getdata(outfile, 'Z_MASK')\n",
    "mask = {'b': maskb, 'r': maskr, 'z': maskz}\n",
    "\n",
    "resb = fits.getdata(outfile, 'B_RESOLUTION')\n",
    "resr = fits.getdata(outfile, 'R_RESOLUTION')\n",
    "resz = fits.getdata(outfile, 'Z_RESOLUTION')\n",
    "res = {'b': resb, 'r': resr, 'z': resz}\n",
    "\n",
    "spectra_fibermap = Table.read(outfile, 'FIBERMAP')\n",
    "\n",
    "print(len(spectra_fibermap))\n",
    "\n",
    "print(res['b'][0].shape)\n",
    "\n",
    "specdata = None\n",
    "\n",
    "for band in spectra.bands:\n",
    "    \n",
    "    R = Resolution(spectra.resolution_data[band][0])\n",
    "    txflux = R.dot(resample_flux(spectra.wave[band], tempwave, tempflux))\n",
    "    \n",
    "    spec = Spectra([band], {band : spectra.wave[band]}, {band : spectra.flux[band] - txflux}, ivar, \n",
    "                resolution_data=res, \n",
    "                mask=mask, \n",
    "                fibermap=spectra_fibermap, \n",
    "                meta=None,\n",
    "                single=True)\n",
    "    \n",
    "    if specdata is None:\n",
    "        specdata = spec\n",
    "        \n",
    "    else:\n",
    "        specdata.update(spec)"
   ]
  },
  {
   "cell_type": "code",
   "execution_count": 9,
   "metadata": {},
   "outputs": [
    {
     "name": "stderr",
     "output_type": "stream",
     "text": [
      "WARNING: VerifyWarning: Card is too long, comment will be truncated. [astropy.io.fits.card]\n"
     ]
    }
   ],
   "source": [
    "residualoutfile = os.path.join(fileloc, 'residualdata-spectra-class')\n",
    "rrsuboutfile = os.path.join(fileloc, 'rr-rerun-subtracted')\n",
    "\n",
    "desispec.io.write_spectra(outfile=residualoutfile, spec=specdata)\n",
    "\n",
    "cmd = 'rrdesi {} -z {}'.format(residualoutfile, rrsuboutfile)\n",
    "\n",
    "chkfile(cmd, rrsuboutfile, overwrite=False)"
   ]
  },
  {
   "cell_type": "code",
   "execution_count": 10,
   "metadata": {},
   "outputs": [
    {
     "data": {
      "text/html": [
       "&lt;Column name=&apos;Z&apos; dtype=&apos;float64&apos; length=1&gt;\n",
       "<table>\n",
       "<tr><td>0.7031685309056394</td></tr>\n",
       "</table>"
      ],
      "text/plain": [
       "<Column name='Z' dtype='float64' length=1>\n",
       "0.7031685309056394"
      ]
     },
     "execution_count": 10,
     "metadata": {},
     "output_type": "execute_result"
    }
   ],
   "source": [
    "reszbest = Table.read(rrsuboutfile, \"ZBEST\")\n",
    "reszbest['Z']"
   ]
  },
  {
   "cell_type": "code",
   "execution_count": 11,
   "metadata": {},
   "outputs": [
    {
     "name": "stdout",
     "output_type": "stream",
     "text": [
      "DEBUG: Read templates from /global/common/software/desi/cori/desiconda/20190804-1.3.0-spec/code/redrock-templates/master\n",
      "DEBUG: Using default redshift range -0.0050-1.6997 for rrtemplate-galaxy.fits\n"
     ]
    },
    {
     "data": {
      "text/plain": [
       "[<matplotlib.lines.Line2D at 0x2aaad6567748>]"
      ]
     },
     "execution_count": 11,
     "metadata": {},
     "output_type": "execute_result"
    },
    {
     "data": {
      "image/png": "[encoded data removed]",
      "text/plain": [
       "<matplotlib.figure.Figure at 0x2aaad8bfdf28>"
      ]
     },
     "metadata": {
      "needs_background": "light"
     },
     "output_type": "display_data"
    }
   ],
   "source": [
    "ELGfile = redrock.templates.find_templates()[0]\n",
    "rrELGtemp = redrock.templates.Template(ELGfile, wave=combwave)\n",
    "\n",
    "nELGcoeff = rrELGtemp.flux.shape[0]\n",
    "ELGcoeff = reszbest['COEFF'][0][:nELGcoeff]\n",
    "\n",
    "ELGtempflux = rrELGtemp.flux.T.dot(ELGcoeff)\n",
    "ELGtempwave = rrELGtemp.wave * (1+reszbest['Z'])\n",
    "\n",
    "fig, ax = plt.subplots(1, 1, figsize=(12,4))\n",
    "ax.set_title('Z: {}, Flux Ratio: {}'.format(reszbest['Z'][0], fratio))\n",
    "ax.set_xlim(3600,10000)\n",
    "ax.plot(ELGtempwave, ELGtempflux)\n",
    "        "
   ]
  },
  {
   "cell_type": "markdown",
   "metadata": {},
   "source": [
    "# Generalize this into one for loop"
   ]
  },
  {
   "cell_type": "code",
   "execution_count": 12,
   "metadata": {},
   "outputs": [
    {
     "data": {
      "text/plain": [
       "'bestfratio = {\\'FLUX_RATIO\\': [], \\'ZBEST\\': []}\\n\\nfratios = np.arange(.01, .11, .01)\\nBGSseed = 237583\\nrshift = [0.2, 0.8]\\nBGSmag = [20]\\nELGseed = 2\\n\\nfileloc = os.path.join(os.getenv(\\'HOME\\'), \\'learning\\', \\'fitsfiles\\', \\'background_elg_sim\\')\\n\\nfor fratio in fratios:\\n    \\n    infile = os.path.join(fileloc, \\'comb-spec-data-{}.fits\\'.format(fratio))\\n    outfile = os.path.join(fileloc, \\'comb-obsspectra-{}\\'.format(fratio))\\n    rroutfile = os.path.join(fileloc, \\'rr-comb-data-{}\\'.format(fratio))\\n    residualoutfile = os.path.join(fileloc, \\'residualdata-spectra-class-{}\\'.format(fratio))\\n    rrsuboutfile = os.path.join(fileloc, \\'rr-rerun-subtracted-{}\\'.format(fratio))\\n    \\n    ELGmag = maggen(BGSmag, fratio)\\n    \\n    combwave, combflux, BGSmeta, ELGmeta = combspec(ELGmag=ELGmag, BGSmag=BGSmag, ELGseed=ELGseed, BGSseed=BGSseed, rShifts=rshift, returnmeta=True);\\n\\n    writefits(fileloc, name=\\'comb-spec-data-{}\\'.format(fratio), data=combwave, unit=\\'Angstrom\\', hdrname=\\'WAVELENGTH\\', overwrite=True)\\n    writefits(fileloc, name=\\'comb-spec-data-{}\\'.format(fratio), data=combflux, unit=\\'10^-17 erg/(s*cm^2*Angstrom)\\', hdrname=\\'FLUX\\', overwrite=True)\\n    \\n    cmd = \\'quickspectra -i {} -o {} --moonsep 100 --airmass 2.0 --moonfrac .6 --exptime 100 --seeing 2.0\\'.format(infile, outfile)\\n    chkfile(cmd, outfile, overwrite=False)\\n\\n    cmd = \\'rrdesi {} -z {}\\'.format(outfile, rroutfile)\\n    chkfile(cmd, rroutfile, overwrite=False)\\n    \\n    zbest = Table.read(rroutfile, \\'ZBEST\\')\\n    \\n    file = redrock.templates.find_templates()[0]\\n    rrtemp = redrock.templates.Template(file, wave=combwave)\\n\\n    ncoeff = rrtemp.flux.shape[0]\\n    coeff = zbest[\\'COEFF\\'][0][:ncoeff]\\n\\n    tempflux = rrtemp.flux.T.dot(coeff)\\n    tempwave = rrtemp.wave * (1+zbest[\\'Z\\'])\\n    \\n    spectra = desispec.io.read_spectra(outfile)\\n\\n    ivarb = fits.getdata(outfile, \\'B_IVAR\\')\\n    ivarr = fits.getdata(outfile, \\'R_IVAR\\')\\n    ivarz = fits.getdata(outfile, \\'Z_IVAR\\')\\n    ivar = {\\'b\\': ivarb, \\'r\\': ivarr, \\'z\\': ivarz}\\n\\n    maskb = fits.getdata(outfile, \\'B_MASK\\')\\n    maskr = fits.getdata(outfile, \\'R_MASK\\')\\n    maskz = fits.getdata(outfile, \\'Z_MASK\\')\\n    mask = {\\'b\\': maskb, \\'r\\': maskr, \\'z\\': maskz}\\n\\n    resb = fits.getdata(outfile, \\'B_RESOLUTION\\')\\n    resr = fits.getdata(outfile, \\'R_RESOLUTION\\')\\n    resz = fits.getdata(outfile, \\'Z_RESOLUTION\\')\\n    res = {\\'b\\': resb, \\'r\\': resr, \\'z\\': resz}\\n\\n    spectra_fibermap = Table.read(outfile, \\'FIBERMAP\\')\\n    specdata = None\\n\\n    for band in spectra.bands:\\n\\n        R = Resolution(spectra.resolution_data[band][0])\\n        txflux = R.dot(resample_flux(spectra.wave[band], tempwave, tempflux))\\n\\n        spec = Spectra([band], {band : spectra.wave[band]}, {band : spectra.flux[band] - txflux}, ivar, \\n                    resolution_data=res, \\n                    mask=mask, \\n                    fibermap=spectra_fibermap, \\n                    meta=None,\\n                    single=True)\\n\\n        if specdata is None:\\n            specdata = spec\\n\\n        else:\\n            specdata.update(spec)\\n            \\n    desispec.io.write_spectra(outfile=residualoutfile, spec=specdata)\\n\\n    cmd = \\'rrdesi {} -z {}\\'.format(residualoutfile, rrsuboutfile)\\n    chkfile(cmd, rrsuboutfile, overwrite=False)\\n    \\n    reszbest = Table.read(rrsuboutfile, \"ZBEST\")\\n    \\n    ELGfile = redrock.templates.find_templates()[0]\\n    rrELGtemp = redrock.templates.Template(ELGfile, wave=combwave)\\n\\n    nELGcoeff = rrELGtemp.flux.shape[0]\\n    ELGcoeff = reszbest[\\'COEFF\\'][0][:nELGcoeff]\\n\\n    ELGtempflux = rrELGtemp.flux.T.dot(ELGcoeff)\\n    ELGtempwave = rrELGtemp.wave * (1+reszbest[\\'Z\\'])\\n\\n    fig, ax = plt.subplots(1, 1, figsize=(12,4))\\n    ax.plot(ELGtempwave, ELGtempflux)\\n    ax.set_xlim(3600, 10000)\\n    ax.set_title(\\'Flux Ratio: {0:.3f}, ELG Z: {1}\\'.format(fratio, reszbest[\\'Z\\'][0]))\\n    \\n    if reszbest[\\'Z\\'] > 0.65 and reszbest[\\'Z\\'] < 0.95:\\n        \\n        bestfratio[\\'FLUX_RATIO\\'].append(fratio)\\n        bestfratio[\\'ZBEST\\'].append(reszbest[\\'Z\\'])'"
      ]
     },
     "execution_count": 12,
     "metadata": {},
     "output_type": "execute_result"
    }
   ],
   "source": [
    "'''bestfratio = {'FLUX_RATIO': [], 'ZBEST': []}\n",
    "\n",
    "fratios = np.arange(.01, .11, .01)\n",
    "BGSseed = 237583\n",
    "rshift = [0.2, 0.8]\n",
    "BGSmag = [20]\n",
    "ELGseed = 2\n",
    "\n",
    "fileloc = os.path.join(os.getenv('HOME'), 'learning', 'fitsfiles', 'background_elg_sim')\n",
    "\n",
    "for fratio in fratios:\n",
    "    \n",
    "    infile = os.path.join(fileloc, 'comb-spec-data-{}.fits'.format(fratio))\n",
    "    outfile = os.path.join(fileloc, 'comb-obsspectra-{}'.format(fratio))\n",
    "    rroutfile = os.path.join(fileloc, 'rr-comb-data-{}'.format(fratio))\n",
    "    residualoutfile = os.path.join(fileloc, 'residualdata-spectra-class-{}'.format(fratio))\n",
    "    rrsuboutfile = os.path.join(fileloc, 'rr-rerun-subtracted-{}'.format(fratio))\n",
    "    \n",
    "    ELGmag = maggen(BGSmag, fratio)\n",
    "    \n",
    "    combwave, combflux, BGSmeta, ELGmeta = combspec(ELGmag=ELGmag, BGSmag=BGSmag, ELGseed=ELGseed, BGSseed=BGSseed, rShifts=rshift, returnmeta=True);\n",
    "\n",
    "    writefits(fileloc, name='comb-spec-data-{}'.format(fratio), data=combwave, unit='Angstrom', hdrname='WAVELENGTH', overwrite=True)\n",
    "    writefits(fileloc, name='comb-spec-data-{}'.format(fratio), data=combflux, unit='10^-17 erg/(s*cm^2*Angstrom)', hdrname='FLUX', overwrite=True)\n",
    "    \n",
    "    cmd = 'quickspectra -i {} -o {} --moonsep 100 --airmass 2.0 --moonfrac .6 --exptime 100 --seeing 2.0'.format(infile, outfile)\n",
    "    chkfile(cmd, outfile, overwrite=False)\n",
    "\n",
    "    cmd = 'rrdesi {} -z {}'.format(outfile, rroutfile)\n",
    "    chkfile(cmd, rroutfile, overwrite=False)\n",
    "    \n",
    "    zbest = Table.read(rroutfile, 'ZBEST')\n",
    "    \n",
    "    file = redrock.templates.find_templates()[0]\n",
    "    rrtemp = redrock.templates.Template(file, wave=combwave)\n",
    "\n",
    "    ncoeff = rrtemp.flux.shape[0]\n",
    "    coeff = zbest['COEFF'][0][:ncoeff]\n",
    "\n",
    "    tempflux = rrtemp.flux.T.dot(coeff)\n",
    "    tempwave = rrtemp.wave * (1+zbest['Z'])\n",
    "    \n",
    "    spectra = desispec.io.read_spectra(outfile)\n",
    "\n",
    "    ivarb = fits.getdata(outfile, 'B_IVAR')\n",
    "    ivarr = fits.getdata(outfile, 'R_IVAR')\n",
    "    ivarz = fits.getdata(outfile, 'Z_IVAR')\n",
    "    ivar = {'b': ivarb, 'r': ivarr, 'z': ivarz}\n",
    "\n",
    "    maskb = fits.getdata(outfile, 'B_MASK')\n",
    "    maskr = fits.getdata(outfile, 'R_MASK')\n",
    "    maskz = fits.getdata(outfile, 'Z_MASK')\n",
    "    mask = {'b': maskb, 'r': maskr, 'z': maskz}\n",
    "\n",
    "    resb = fits.getdata(outfile, 'B_RESOLUTION')\n",
    "    resr = fits.getdata(outfile, 'R_RESOLUTION')\n",
    "    resz = fits.getdata(outfile, 'Z_RESOLUTION')\n",
    "    res = {'b': resb, 'r': resr, 'z': resz}\n",
    "\n",
    "    spectra_fibermap = Table.read(outfile, 'FIBERMAP')\n",
    "    specdata = None\n",
    "\n",
    "    for band in spectra.bands:\n",
    "\n",
    "        R = Resolution(spectra.resolution_data[band][0])\n",
    "        txflux = R.dot(resample_flux(spectra.wave[band], tempwave, tempflux))\n",
    "\n",
    "        spec = Spectra([band], {band : spectra.wave[band]}, {band : spectra.flux[band] - txflux}, ivar, \n",
    "                    resolution_data=res, \n",
    "                    mask=mask, \n",
    "                    fibermap=spectra_fibermap, \n",
    "                    meta=None,\n",
    "                    single=True)\n",
    "\n",
    "        if specdata is None:\n",
    "            specdata = spec\n",
    "\n",
    "        else:\n",
    "            specdata.update(spec)\n",
    "            \n",
    "    desispec.io.write_spectra(outfile=residualoutfile, spec=specdata)\n",
    "\n",
    "    cmd = 'rrdesi {} -z {}'.format(residualoutfile, rrsuboutfile)\n",
    "    chkfile(cmd, rrsuboutfile, overwrite=False)\n",
    "    \n",
    "    reszbest = Table.read(rrsuboutfile, \"ZBEST\")\n",
    "    \n",
    "    ELGfile = redrock.templates.find_templates()[0]\n",
    "    rrELGtemp = redrock.templates.Template(ELGfile, wave=combwave)\n",
    "\n",
    "    nELGcoeff = rrELGtemp.flux.shape[0]\n",
    "    ELGcoeff = reszbest['COEFF'][0][:nELGcoeff]\n",
    "\n",
    "    ELGtempflux = rrELGtemp.flux.T.dot(ELGcoeff)\n",
    "    ELGtempwave = rrELGtemp.wave * (1+reszbest['Z'])\n",
    "\n",
    "    fig, ax = plt.subplots(1, 1, figsize=(12,4))\n",
    "    ax.plot(ELGtempwave, ELGtempflux)\n",
    "    ax.set_xlim(3600, 10000)\n",
    "    ax.set_title('Flux Ratio: {0:.3f}, ELG Z: {1}'.format(fratio, reszbest['Z'][0]))\n",
    "    \n",
    "    if reszbest['Z'] > 0.65 and reszbest['Z'] < 0.95:\n",
    "        \n",
    "        bestfratio['FLUX_RATIO'].append(fratio)\n",
    "        bestfratio['ZBEST'].append(reszbest['Z'])'''"
   ]
  },
  {
   "cell_type": "code",
   "execution_count": 13,
   "metadata": {},
   "outputs": [
    {
     "ename": "NameError",
     "evalue": "name 'bestfratio' is not defined",
     "output_type": "error",
     "traceback": [
      "\u001b[0;31m---------------------------------------------------------------------------\u001b[0m",
      "\u001b[0;31mNameError\u001b[0m                                 Traceback (most recent call last)",
      "\u001b[0;32m<ipython-input-13-0e6760766d41>\u001b[0m in \u001b[0;36m<module>\u001b[0;34m\u001b[0m\n\u001b[0;32m----> 1\u001b[0;31m \u001b[0mbestfratio\u001b[0m\u001b[0;34m\u001b[0m\u001b[0m\n\u001b[0m",
      "\u001b[0;31mNameError\u001b[0m: name 'bestfratio' is not defined"
     ]
    }
   ],
   "source": [
    "bestfratio"
   ]
  },
  {
   "cell_type": "code",
   "execution_count": null,
   "metadata": {},
   "outputs": [],
   "source": []
  }
 ],
 "metadata": {
  "kernelspec": {
   "display_name": "DESI master custom",
   "language": "python",
   "name": "desi-master-custom"
  },
  "language_info": {
   "codemirror_mode": {
    "name": "ipython",
    "version": 3
   },
   "file_extension": ".py",
   "mimetype": "text/x-python",
   "name": "python",
   "nbconvert_exporter": "python",
   "pygments_lexer": "ipython3",
   "version": "3.6.6"
  }
 },
 "nbformat": 4,
 "nbformat_minor": 4
}
